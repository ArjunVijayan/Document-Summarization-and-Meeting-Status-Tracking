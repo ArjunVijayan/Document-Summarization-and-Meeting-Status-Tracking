{
  "nbformat": 4,
  "nbformat_minor": 0,
  "metadata": {
    "colab": {
      "provenance": []
    },
    "kernelspec": {
      "name": "python3",
      "display_name": "Python 3"
    },
    "language_info": {
      "name": "python"
    }
  },
  "cells": [
    {
      "cell_type": "code",
      "execution_count": 14,
      "metadata": {
        "id": "UAgATsbPZDC2"
      },
      "outputs": [],
      "source": [
        "import json\n",
        "import pathlib\n",
        "import textwrap\n",
        "\n",
        "import google.generativeai as genai\n",
        "\n",
        "\n",
        "from IPython.display import display\n",
        "from IPython.display import Markdown\n",
        "\n",
        "from google.api_core import retry"
      ]
    },
    {
      "cell_type": "code",
      "source": [
        "genai.configure(api_key=\"gemini_api_key\")"
      ],
      "metadata": {
        "id": "21xMqBMGZJ1G"
      },
      "execution_count": 15,
      "outputs": []
    },
    {
      "cell_type": "code",
      "source": [
        "model = genai.GenerativeModel(model_name='models/gemini-1.5-pro-latest')"
      ],
      "metadata": {
        "id": "VzhsZ5erZVMG"
      },
      "execution_count": 16,
      "outputs": []
    },
    {
      "cell_type": "code",
      "source": [
        "# Read the pdf\n",
        "import pymupdf\n",
        "doc = pymupdf.open(\"MOM-arjtech meeting.pdf\")\n",
        "\n",
        "extracted_text = \"\"\n",
        "\n",
        "for page in doc:\n",
        "  extracted_text += page.get_text()\n",
        "  extracted_text += \"\\n\"\n",
        "\n",
        "print(extracted_text[:1000])"
      ],
      "metadata": {
        "colab": {
          "base_uri": "https://localhost:8080/"
        },
        "id": "2oeWroY_ZfjI",
        "outputId": "238a8196-4308-4004-d73e-aa885b8a3b56"
      },
      "execution_count": 17,
      "outputs": [
        {
          "output_type": "stream",
          "name": "stdout",
          "text": [
            " \n",
            "Arjtech Private Ltd \n",
            "Project Progress Report: Customer Churn Prediction Engine \n",
            "Date: September 25, 2024\n",
            "Prepared by: Arjun V \n",
            "Project Objective \n",
            "The objective of this project is to develop a Customer Churn Prediction Engine that will \n",
            "help Arjtech Private Ltd predict which customers are at risk of leaving the service. The \n",
            "engine will use machine learning models to identify patterns in customer behavior and \n",
            "engagement, helping to retain valuable customers and optimize marketing efforts. \n",
            "Current Status \n",
            "●\n",
            "Phase 1: Requirement Analysis - Completed\n",
            "The project requirements were analyzed, and key churn indicators were identified. \n",
            "This phase involved discussions with stakeholders and subject matter experts to \n",
            "understand business objectives, churn patterns, and the desired outputs of the \n",
            "model. \n",
            "●\n",
            "Phase 2: Data Collection - Completed\n",
            "Data collection from various sources, including customer activity, usage logs, \n",
            "feedback forms, and subscription details, has been completed. The collec\n"
          ]
        }
      ]
    },
    {
      "cell_type": "code",
      "source": [
        "#current updates\n",
        "\n",
        "current_structure = \"\"\"{\n",
        "  \"ProjectTitle\": \"Customer Churn Prediction Engine\",\n",
        "  \"Date\": \"September 25, 2024\",\n",
        "  \"ProjectObjective\": \"Develop a Customer Churn Prediction Engine to predict which customers are at risk of churning and provide insights to optimize retention strategies.\",\n",
        "  \"CurrentStatus\": {\n",
        "    \"RequirementAnalysis\": \"Completed\",\n",
        "    \"DataCollection\": \"Completed\",\n",
        "    \"DataPreparation\": {\n",
        "      \"Status\": \"In Progress\",\n",
        "      \"Details\": \"Preliminary data cleaning done. Further feature engineering, scaling, and encoding categorical features ongoing.\"\n",
        "    },\n",
        "    \"ModelSelectionAndTraining\": {\n",
        "      \"Status\": \"Upcoming\",\n",
        "      \"Details\": \"Logistic Regression as baseline, followed by Random Forest and Gradient Boosting models.\"\n",
        "    }\n",
        "  },\n",
        "  \"TeamMembers\": {\n",
        "    \"ProjectLead\": \"Lead Name\",\n",
        "    \"DataScientist\": \"Your Name\",\n",
        "    \"MLEngineer\": \"Engineer Name\",\n",
        "    \"DataEngineer\": \"Engineer Name\",\n",
        "    \"BusinessAnalyst\": \"Analyst Name\",\n",
        "    \"SoftwareEngineer\": \"Engineer Name\"\n",
        "  },\n",
        "  \"CompletedTasks\": [\n",
        "    \"Requirement analysis meetings with stakeholders.\",\n",
        "    \"Data collection from internal and external data sources.\",\n",
        "    \"Initial data cleaning and preprocessing.\"\n",
        "  ],\n",
        "  \"NewlyAssignedTasks\": {\n",
        "    \"DataScientist\": \"Continue data preprocessing and feature engineering.\",\n",
        "    \"MLEngineer\": \"Explore various machine learning models and finalize shortlist for model training.\",\n",
        "    \"DataEngineer\": \"Set up infrastructure for data storage and handling during model training.\",\n",
        "    \"SoftwareEngineer\": \"Begin planning deployment pipelines for model integration.\"\n",
        "  },\n",
        "  \"MinutesOfMeeting\": {\n",
        "    \"Date\": \"September 24, 2024\",\n",
        "    \"Attendees\": [\"List of Attendees\"],\n",
        "    \"Agenda\": [\n",
        "      \"Review current progress.\",\n",
        "      \"Discuss upcoming tasks related to model selection and training.\",\n",
        "      \"Address roadblocks in data preparation.\"\n",
        "    ],\n",
        "    \"DiscussionPoints\": [\n",
        "      {\n",
        "        \"Topic\": \"Data Collection\",\n",
        "        \"Details\": \"Data collection completed. Missing values handled.\"\n",
        "      },\n",
        "      {\n",
        "        \"Topic\": \"Data Preparation\",\n",
        "        \"Details\": \"Feature engineering, handling categorical variables, and scaling are in progress. Challenges in class imbalance discussed.\"\n",
        "      },\n",
        "      {\n",
        "        \"Topic\": \"Model Selection\",\n",
        "        \"Details\": \"Logistic Regression will be the baseline, followed by Random Forest and Gradient Boosting.\"\n",
        "      },\n",
        "      {\n",
        "        \"Topic\": \"Timeline\",\n",
        "        \"Details\": \"Next review scheduled after model training completion.\"\n",
        "      }\n",
        "    ],\n",
        "    \"ActionItems\": {\n",
        "      \"DataScientist\": \"Finalize data preparation and start exploratory analysis.\",\n",
        "      \"MLEngineer\": \"Start model selection with Logistic Regression.\",\n",
        "      \"DataEngineer\": \"Ensure preprocessed data is ready for training.\",\n",
        "      \"ProjectLead\": \"Schedule model performance review session.\"\n",
        "    },\n",
        "    \"NextMeeting\": \"October 2, 2024\"\n",
        "  }\n",
        "}\"\"\""
      ],
      "metadata": {
        "id": "Oi-IY5L8nvPX"
      },
      "execution_count": 18,
      "outputs": []
    },
    {
      "cell_type": "code",
      "source": [
        "# define expected structure\n",
        "# structuring extracted text\n",
        "\n",
        "\n",
        "def return_req_structure():\n",
        "\n",
        "  struct = \"\"\"{\n",
        "    \"ProjectTitle\": \"Project Title\",\n",
        "    \"Date\": \"YYYY-MM-DD\",\n",
        "    \"ProjectObjective\": \"Brief description of the project objective.\",\n",
        "    \"CurrentStatus\": {\n",
        "      \"RequirementAnalysis\": \"Status of requirement analysis (e.g., Completed, In Progress, Not Started)\",\n",
        "      \"DataCollection\": \"Status of data collection (e.g., Completed, In Progress, Not Started)\",\n",
        "      \"DataPreparation\": {\n",
        "        \"Status\": \"Status of data preparation (e.g., Completed, In Progress, Not Started)\",\n",
        "      },\n",
        "      \"ModelSelectionAndTraining\": {\n",
        "        \"Status\": \"Status of model selection and training (e.g., Upcoming, In Progress, Completed)\",\n",
        "        \"Details\": \"Details regarding the model selection process.\"\n",
        "      }\n",
        "    },\n",
        "    \"TeamMembers\": [\"List team member roles\"],\n",
        "    \"CompletedTasks\": [\n",
        "      \"Task 1 description\",\n",
        "      \"Task 2 description\",\n",
        "      \"Task 3 description\"\n",
        "    ],\n",
        "    \"NewlyAssignedTasks\": {\n",
        "      \"DataScientist\": \"New task for the data scientist\",\n",
        "      \"MLEngineer\": \"New task for the machine learning engineer\",\n",
        "      \"DataEngineer\": \"New task for the data engineer\",\n",
        "      \"SoftwareEngineer\": \"New task for the software engineer\"\n",
        "    },\n",
        "    \"MinutesOfMeeting\": {\n",
        "      \"Date\": \"YYYY-MM-DD\",\n",
        "      \"Attendees\": [\"List of roles of attendees\"],\n",
        "      \"Agenda\": [\n",
        "        \"Agenda item 1\",\n",
        "        \"Agenda item 2\",\n",
        "        \"Agenda item 3\"\n",
        "      ],\n",
        "      \"DiscussionPoints\": [\n",
        "        {\n",
        "          \"Topic\": \"Topic 1\",\n",
        "          \"Details\": \"Discussion details for topic 1.\"\n",
        "        },\n",
        "        {\n",
        "          \"Topic\": \"Topic 2\",\n",
        "          \"Details\": \"Discussion details for topic 2.\"\n",
        "        },\n",
        "        {\n",
        "          \"Topic\": \"Topic 3\",\n",
        "          \"Details\": \"Discussion details for topic 3.\"\n",
        "        }\n",
        "      ],\n",
        "      \"ActionItems\": {\n",
        "        \"DataScientist\": \"Action item for the data scientist.\",\n",
        "        \"MLEngineer\": \"Action item for the machine learning engineer.\",\n",
        "        \"DataEngineer\": \"Action item for the data engineer.\",\n",
        "        \"ProjectLead\": \"Action item for the project lead.\"\n",
        "      },\n",
        "      \"NextMeeting\": \"Next meeting date\"\n",
        "    }\n",
        "  }\n",
        "  \"\"\"\n",
        "\n",
        "  return struct\n",
        "\n",
        "def extract_text_in_structure_latest_description(text):\n",
        "\n",
        "  structure = return_req_structure()\n",
        "\n",
        "  response = model.generate_content(\n",
        "  textwrap.dedent(f\"\"\"\n",
        "  From the text describing the latest meeting regarding the project {extracted_text} return JSON describing the project details using the following schema:\n",
        "  {structure}\n",
        "\n",
        "    All fields are required.\n",
        "\n",
        "    Do not Hallucinate\n",
        "\n",
        "    If a field is empty keep it empty/null\n",
        "\n",
        "    Important: Only return a single piece of valid JSON text.\n",
        "\n",
        "    Here is the text:\n",
        "\n",
        "    \"\"\") + text,\n",
        "  generation_config={'response_mime_type':'application/json'}\n",
        "  )\n",
        "\n",
        "  resp = json.dumps(json.loads(response.text), indent=4)\n",
        "\n",
        "  return resp"
      ],
      "metadata": {
        "id": "I0KpZZsWfwPz"
      },
      "execution_count": 19,
      "outputs": []
    },
    {
      "cell_type": "code",
      "source": [
        "latest_status_description = \"\"\"In the follow-up meeting held on October 2, 2024, the team reviewed\n",
        " the successful completion of the model selection and training phase for the Customer\n",
        " Churn Prediction Engine. After evaluating multiple models, including Logistic Regression,\n",
        " Random Forest, and XGBoost, the team selected XGBoost as the final model due to its superior performance,\n",
        " achieving an accuracy of 85%, a recall of 82%, and an AUC-ROC score of 0.89. SHAP analysis was used to provide\n",
        " transparency in the model’s predictions, revealing key churn indicators such as customer engagement frequency\n",
        " and subscription tenure. The team discussed challenges such as class imbalance, which was addressed using SMOTE,\n",
        " and overfitting risks, mitigated through regularization and cross-validation. Moving forward, the team will fine-tune\n",
        " the model, conduct final validation, and begin deployment planning. The software and ML engineers will develop APIs to\n",
        " integrate the model into the CRM system, while an automated retraining pipeline will be implemented to keep the\n",
        " model updated every 14 days. The business analyst will collaborate with the marketing team to apply the insights for\n",
        " targeted retention strategies. The next meeting is scheduled for October 16, 2024\n",
        ", to finalize deployment plans and align business strategies with the model’s outputs.\"\"\""
      ],
      "metadata": {
        "id": "Hxl3_Uz5ff1w"
      },
      "execution_count": 20,
      "outputs": []
    },
    {
      "cell_type": "code",
      "source": [
        "structured_latest_status_description = extract_text_in_structure_latest_description(latest_status_description)"
      ],
      "metadata": {
        "colab": {
          "base_uri": "https://localhost:8080/",
          "height": 821
        },
        "id": "Bhy3sEolkS0F",
        "outputId": "db83d8e6-40dc-4954-b85d-a653aee66ca3"
      },
      "execution_count": 21,
      "outputs": [
        {
          "output_type": "execute_result",
          "data": {
            "text/plain": [
              "{'ProjectTitle': 'Customer Churn Prediction Engine',\n",
              " 'Date': '2024-09-25',\n",
              " 'ProjectObjective': 'The objective of this project is to develop a Customer Churn Prediction Engine that will help Arjtech Private Ltd predict which customers are at risk of leaving the service. The engine will use machine learning models to identify patterns in customer behavior and engagement, helping to retain valuable customers and optimize marketing efforts.',\n",
              " 'CurrentStatus': {'RequirementAnalysis': 'Completed',\n",
              "  'DataCollection': 'Completed',\n",
              "  'DataPreparation': {'Status': 'In Progress'},\n",
              "  'ModelSelectionAndTraining': {'Status': 'Completed',\n",
              "   'Details': 'Logistic Regression was used as the baseline model, followed by ensemble methods like Random Forest and Gradient Boosting. XGBoost was selected as the final model due to its superior performance, achieving an accuracy of 85%, a recall of 82%, and an AUC-ROC score of 0.89. SHAP analysis was used for model explainability.'}},\n",
              " 'TeamMembers': ['Project Lead',\n",
              "  'Data Scientist',\n",
              "  'ML Engineer',\n",
              "  'Data Engineer',\n",
              "  'Business Analyst',\n",
              "  'Software Engineer'],\n",
              " 'CompletedTasks': ['Requirement analysis meetings with stakeholders.',\n",
              "  'Data collection from internal and external data sources.',\n",
              "  'Initial data cleaning and preprocessing.'],\n",
              " 'NewlyAssignedTasks': {'DataScientist': 'Continue data preprocessing and feature engineering.',\n",
              "  'MLEngineer': 'Explore various machine learning models and finalize the shortlist for model training.',\n",
              "  'DataEngineer': 'Set up the infrastructure for data storage and handling during model training.',\n",
              "  'SoftwareEngineer': \"Begin planning deployment pipelines for model integration into the company's CRM.\"},\n",
              " 'MinutesOfMeeting': {'Date': '2024-10-02',\n",
              "  'Attendees': [],\n",
              "  'Agenda': ['Review the successful completion of the model selection and training phase.',\n",
              "   'Discuss the performance of the selected model and the key churn indicators identified.',\n",
              "   'Plan the next steps for model fine-tuning, validation, and deployment.'],\n",
              "  'DiscussionPoints': [{'Topic': 'Model Selection and Training',\n",
              "    'Details': 'The team successfully completed the model selection and training phase. XGBoost was chosen as the final model due to its superior performance.'},\n",
              "   {'Topic': 'Model Performance',\n",
              "    'Details': 'XGBoost achieved an accuracy of 85%, a recall of 82%, and an AUC-ROC score of 0.89. Key churn indicators were identified using SHAP analysis, including customer engagement frequency and subscription tenure.'},\n",
              "   {'Topic': 'Challenges and Mitigation',\n",
              "    'Details': 'Challenges such as class imbalance and overfitting risks were addressed using SMOTE for class imbalance and regularization and cross-validation for overfitting.'}],\n",
              "  'ActionItems': {'DataScientist': 'Fine-tune the selected model and conduct final validation.',\n",
              "   'MLEngineer': 'Collaborate with the software engineer to develop APIs for model integration into the CRM system.',\n",
              "   'DataEngineer': 'Implement an automated retraining pipeline to keep the model updated every 14 days.',\n",
              "   'ProjectLead': \"Schedule a meeting on October 16, 2024, to finalize deployment plans and align business strategies with the model's outputs.\"},\n",
              "  'NextMeeting': '2024-10-16'}}"
            ]
          },
          "metadata": {},
          "execution_count": 21
        }
      ]
    },
    {
      "cell_type": "code",
      "source": [
        "latest = json.loads(structured_latest_status_description)"
      ],
      "metadata": {
        "id": "a2hWMKWtkZrW"
      },
      "execution_count": 22,
      "outputs": []
    },
    {
      "cell_type": "code",
      "source": [
        "latest.keys()"
      ],
      "metadata": {
        "colab": {
          "base_uri": "https://localhost:8080/"
        },
        "id": "DUmYK9elr8b2",
        "outputId": "8dbd68ef-fc82-483b-8379-4b2cd39d8c61"
      },
      "execution_count": 24,
      "outputs": [
        {
          "output_type": "execute_result",
          "data": {
            "text/plain": [
              "dict_keys(['ProjectTitle', 'Date', 'ProjectObjective', 'CurrentStatus', 'TeamMembers', 'CompletedTasks', 'NewlyAssignedTasks', 'MinutesOfMeeting'])"
            ]
          },
          "metadata": {},
          "execution_count": 24
        }
      ]
    },
    {
      "cell_type": "code",
      "source": [
        "# update latest info\n",
        "import copy\n",
        "\n",
        "def update_latest_info(current_data, latest_data):\n",
        "\n",
        "  current_data = json.loads(current_data)\n",
        "  latest_data = json.loads(latest_data)\n",
        "\n",
        "  updated_data = copy.deepcopy(current_data)\n",
        "\n",
        "  available_keys = ['ProjectTitle', 'Date', 'ProjectObjective', 'CurrentStatus'\n",
        "  , 'TeamMembers', 'CompletedTasks', 'NewlyAssignedTasks', 'MinutesOfMeeting']\n",
        "\n",
        "  mutable_keys = ['CurrentStatus', 'CompletedTasks', 'NewlyAssignedTasks', 'MinutesOfMeeting']\n",
        "\n",
        "\n",
        "  for key, val in current_data.items():\n",
        "    if key in mutable_keys:\n",
        "      updated_data[key] = latest_data[key]\n",
        "\n",
        "  return updated_data"
      ],
      "metadata": {
        "id": "CfFza1-Pr9Xe"
      },
      "execution_count": 25,
      "outputs": []
    },
    {
      "cell_type": "code",
      "source": [
        "updated_data = update_latest_info(current_structure, structured_latest_status_description)\n",
        "print(updated_data)"
      ],
      "metadata": {
        "colab": {
          "base_uri": "https://localhost:8080/"
        },
        "id": "CRWCJWtMtaTl",
        "outputId": "7a2cb69c-4926-45d0-a4ee-dd62cd4f4d21"
      },
      "execution_count": 28,
      "outputs": [
        {
          "output_type": "stream",
          "name": "stdout",
          "text": [
            "{'ProjectTitle': 'Customer Churn Prediction Engine', 'Date': 'September 25, 2024', 'ProjectObjective': 'Develop a Customer Churn Prediction Engine to predict which customers are at risk of churning and provide insights to optimize retention strategies.', 'CurrentStatus': {'RequirementAnalysis': 'Completed', 'DataCollection': 'Completed', 'DataPreparation': {'Status': 'In Progress'}, 'ModelSelectionAndTraining': {'Status': 'Completed', 'Details': 'Logistic Regression was used as the baseline model, followed by ensemble methods like Random Forest and Gradient Boosting. XGBoost was selected as the final model due to its superior performance, achieving an accuracy of 85%, a recall of 82%, and an AUC-ROC score of 0.89. SHAP analysis was used for model explainability.'}}, 'TeamMembers': {'ProjectLead': 'Lead Name', 'DataScientist': 'Your Name', 'MLEngineer': 'Engineer Name', 'DataEngineer': 'Engineer Name', 'BusinessAnalyst': 'Analyst Name', 'SoftwareEngineer': 'Engineer Name'}, 'CompletedTasks': ['Requirement analysis meetings with stakeholders.', 'Data collection from internal and external data sources.', 'Initial data cleaning and preprocessing.'], 'NewlyAssignedTasks': {'DataScientist': 'Continue data preprocessing and feature engineering.', 'MLEngineer': 'Explore various machine learning models and finalize the shortlist for model training.', 'DataEngineer': 'Set up the infrastructure for data storage and handling during model training.', 'SoftwareEngineer': \"Begin planning deployment pipelines for model integration into the company's CRM.\"}, 'MinutesOfMeeting': {'Date': '2024-10-02', 'Attendees': [], 'Agenda': ['Review the successful completion of the model selection and training phase.', 'Discuss the performance of the selected model and the key churn indicators identified.', 'Plan the next steps for model fine-tuning, validation, and deployment.'], 'DiscussionPoints': [{'Topic': 'Model Selection and Training', 'Details': 'The team successfully completed the model selection and training phase. XGBoost was chosen as the final model due to its superior performance.'}, {'Topic': 'Model Performance', 'Details': 'XGBoost achieved an accuracy of 85%, a recall of 82%, and an AUC-ROC score of 0.89. Key churn indicators were identified using SHAP analysis, including customer engagement frequency and subscription tenure.'}, {'Topic': 'Challenges and Mitigation', 'Details': 'Challenges such as class imbalance and overfitting risks were addressed using SMOTE for class imbalance and regularization and cross-validation for overfitting.'}], 'ActionItems': {'DataScientist': 'Fine-tune the selected model and conduct final validation.', 'MLEngineer': 'Collaborate with the software engineer to develop APIs for model integration into the CRM system.', 'DataEngineer': 'Implement an automated retraining pipeline to keep the model updated every 14 days.', 'ProjectLead': \"Schedule a meeting on October 16, 2024, to finalize deployment plans and align business strategies with the model's outputs.\"}, 'NextMeeting': '2024-10-16'}}\n"
          ]
        }
      ]
    },
    {
      "cell_type": "code",
      "source": [
        "updated_data"
      ],
      "metadata": {
        "colab": {
          "base_uri": "https://localhost:8080/"
        },
        "id": "aD8VhJoBtsax",
        "outputId": "0e45cc6c-4df3-4309-bb7e-ac7af33e6b1f"
      },
      "execution_count": 29,
      "outputs": [
        {
          "output_type": "execute_result",
          "data": {
            "text/plain": [
              "{'ProjectTitle': 'Customer Churn Prediction Engine',\n",
              " 'Date': 'September 25, 2024',\n",
              " 'ProjectObjective': 'Develop a Customer Churn Prediction Engine to predict which customers are at risk of churning and provide insights to optimize retention strategies.',\n",
              " 'CurrentStatus': {'RequirementAnalysis': 'Completed',\n",
              "  'DataCollection': 'Completed',\n",
              "  'DataPreparation': {'Status': 'In Progress'},\n",
              "  'ModelSelectionAndTraining': {'Status': 'Completed',\n",
              "   'Details': 'Logistic Regression was used as the baseline model, followed by ensemble methods like Random Forest and Gradient Boosting. XGBoost was selected as the final model due to its superior performance, achieving an accuracy of 85%, a recall of 82%, and an AUC-ROC score of 0.89. SHAP analysis was used for model explainability.'}},\n",
              " 'TeamMembers': {'ProjectLead': 'Lead Name',\n",
              "  'DataScientist': 'Your Name',\n",
              "  'MLEngineer': 'Engineer Name',\n",
              "  'DataEngineer': 'Engineer Name',\n",
              "  'BusinessAnalyst': 'Analyst Name',\n",
              "  'SoftwareEngineer': 'Engineer Name'},\n",
              " 'CompletedTasks': ['Requirement analysis meetings with stakeholders.',\n",
              "  'Data collection from internal and external data sources.',\n",
              "  'Initial data cleaning and preprocessing.'],\n",
              " 'NewlyAssignedTasks': {'DataScientist': 'Continue data preprocessing and feature engineering.',\n",
              "  'MLEngineer': 'Explore various machine learning models and finalize the shortlist for model training.',\n",
              "  'DataEngineer': 'Set up the infrastructure for data storage and handling during model training.',\n",
              "  'SoftwareEngineer': \"Begin planning deployment pipelines for model integration into the company's CRM.\"},\n",
              " 'MinutesOfMeeting': {'Date': '2024-10-02',\n",
              "  'Attendees': [],\n",
              "  'Agenda': ['Review the successful completion of the model selection and training phase.',\n",
              "   'Discuss the performance of the selected model and the key churn indicators identified.',\n",
              "   'Plan the next steps for model fine-tuning, validation, and deployment.'],\n",
              "  'DiscussionPoints': [{'Topic': 'Model Selection and Training',\n",
              "    'Details': 'The team successfully completed the model selection and training phase. XGBoost was chosen as the final model due to its superior performance.'},\n",
              "   {'Topic': 'Model Performance',\n",
              "    'Details': 'XGBoost achieved an accuracy of 85%, a recall of 82%, and an AUC-ROC score of 0.89. Key churn indicators were identified using SHAP analysis, including customer engagement frequency and subscription tenure.'},\n",
              "   {'Topic': 'Challenges and Mitigation',\n",
              "    'Details': 'Challenges such as class imbalance and overfitting risks were addressed using SMOTE for class imbalance and regularization and cross-validation for overfitting.'}],\n",
              "  'ActionItems': {'DataScientist': 'Fine-tune the selected model and conduct final validation.',\n",
              "   'MLEngineer': 'Collaborate with the software engineer to develop APIs for model integration into the CRM system.',\n",
              "   'DataEngineer': 'Implement an automated retraining pipeline to keep the model updated every 14 days.',\n",
              "   'ProjectLead': \"Schedule a meeting on October 16, 2024, to finalize deployment plans and align business strategies with the model's outputs.\"},\n",
              "  'NextMeeting': '2024-10-16'}}"
            ]
          },
          "metadata": {},
          "execution_count": 29
        }
      ]
    },
    {
      "cell_type": "code",
      "source": [],
      "metadata": {
        "id": "5rWyhvgVtvT_"
      },
      "execution_count": null,
      "outputs": []
    }
  ]
}