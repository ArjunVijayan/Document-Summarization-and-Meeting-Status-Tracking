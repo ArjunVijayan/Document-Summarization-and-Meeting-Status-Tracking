{
  "nbformat": 4,
  "nbformat_minor": 0,
  "metadata": {
    "colab": {
      "provenance": []
    },
    "kernelspec": {
      "name": "python3",
      "display_name": "Python 3"
    },
    "language_info": {
      "name": "python"
    }
  },
  "cells": [
    {
      "cell_type": "code",
      "execution_count": 48,
      "metadata": {
        "colab": {
          "base_uri": "https://localhost:8080/"
        },
        "id": "7DI-tDuYBv_n",
        "outputId": "a58806a3-1f71-402b-a21e-748278e6a3fa"
      },
      "outputs": [
        {
          "name": "stdout",
          "output_type": "stream",
          "text": [
            "Enter your Google AI API key: ··········\n"
          ]
        }
      ],
      "source": [
        "import requests\n",
        "import warnings\n",
        "from pathlib import Path\n",
        "\n",
        "import pandas as pd\n",
        "from langchain import PromptTemplate\n",
        "from langchain.chains.summarize import load_summarize_chain\n",
        "from langchain.document_loaders import PyPDFLoader\n",
        "from langchain_community.llms import Ollama\n",
        "from langchain.callbacks.manager import CallbackManager\n",
        "from langchain.callbacks.streaming_stdout import StreamingStdOutCallbackHandler\n",
        "\n",
        "import getpass\n",
        "import os\n",
        "\n",
        "os.environ[\"GOOGLE_API_KEY\"] = getpass.getpass(\"Enter your Google AI API key: \")"
      ]
    },
    {
      "cell_type": "code",
      "source": [
        "# !pip install -qU langchain-google-genai\n",
        "\n",
        "from langchain_google_genai import ChatGoogleGenerativeAI\n",
        "\n",
        "llm = ChatGoogleGenerativeAI(\n",
        "    model=\"gemini-1.5-pro\",\n",
        "    temperature=0,\n",
        "    max_tokens=None,\n",
        "    timeout=None,\n",
        "    max_retries=2\n",
        "    )"
      ],
      "metadata": {
        "id": "D_4hqCPVY2n6"
      },
      "execution_count": 58,
      "outputs": []
    },
    {
      "cell_type": "code",
      "source": [
        "# !pip install -qU langgraph"
      ],
      "metadata": {
        "id": "79f9bnOm2lE-"
      },
      "execution_count": 59,
      "outputs": []
    },
    {
      "cell_type": "code",
      "source": [
        "import operator\n",
        "from typing import List, Literal, TypedDict\n",
        "\n",
        "from langchain_core.output_parsers import StrOutputParser\n",
        "from langchain_core.prompts import ChatPromptTemplate\n",
        "from langchain_core.runnables import RunnableConfig\n",
        "from langgraph.constants import Send\n",
        "from langgraph.graph import END, START, StateGraph"
      ],
      "metadata": {
        "id": "bBXqU4sZ3DaD"
      },
      "execution_count": 60,
      "outputs": []
    },
    {
      "cell_type": "code",
      "source": [
        "# define expected structure\n",
        "# structuring extracted text\n",
        "\n",
        "# Initial summary\n",
        "summarize_prompt = ChatPromptTemplate(\n",
        "    [\n",
        "        (\"human\", \"Write a concise summary of the context. Keep track of each sections and key takeaways in them: {context}\"),\n",
        "    ]\n",
        ")\n",
        "initial_summary_chain = summarize_prompt | llm | StrOutputParser()\n",
        "\n",
        "# Refining the summary with latest info\n",
        "refine_template = \"\"\"\n",
        "Produce a final summary.\n",
        "\n",
        "Existing summary up to this point:\n",
        "{existing_answer}\n",
        "\n",
        "New context:\n",
        "------------\n",
        "{context}\n",
        "------------\n",
        "\n",
        "Given the new context, refine the original summary.\n",
        "\n",
        "Structure the summary as a json file following format.\n",
        "\n",
        "JSON:\n",
        "\"{{\n",
        "    \"ProjectTitle\": \"Project Title\",\n",
        "    \"Date\": \"LateST meeting date\",\n",
        "    \"ProjectObjective\": \"Brief description of the project objective.\",\n",
        "    \"CurrentStatus\": {{\n",
        "      \"RequirementAnalysis\": \"Status of requirement analysis (e.g., Completed, In Progress, Not Started)\",\n",
        "      \"DataCollection\": \"Status of data collection (e.g., Completed, In Progress, Not Started)\",\n",
        "      \"DataPreparation\": {{\n",
        "        \"Status\": \"Status of data preparation (e.g., Completed, In Progress, Not Started)\",\n",
        "      }},\n",
        "      \"ModelSelectionAndTraining\": {{\n",
        "        \"Status\": \"Status of model selection and training (e.g., Upcoming, In Progress, Completed)\",\n",
        "        \"Details\": \"Details regarding the model selection process.\"\n",
        "      }}\n",
        "    }},\n",
        "    \"TeamMembers\": [\"List team member roles\"],\n",
        "    \"CompletedTasks\": [\n",
        "      \"Task 1 description\",\n",
        "      \"Task 2 description\",\n",
        "      \"Task 3 description\"\n",
        "    ],\n",
        "    \"NewlyAssignedTasks\": {{\n",
        "      \"DataScientist\": \"New task for the data scientist\",\n",
        "      \"MLEngineer\": \"New task for the machine learning engineer\",\n",
        "      \"DataEngineer\": \"New task for the data engineer\",\n",
        "      \"SoftwareEngineer\": \"New task for the software engineer\"\n",
        "    }},\n",
        "    \"MinutesOfMeeting\": {{\n",
        "      \"Date\": \"YYYY-MM-DD\",\n",
        "      \"Attendees\": [\"List of roles of attendees\"],\n",
        "      \"Agenda\": [\n",
        "        \"Agenda item 1\",\n",
        "        \"Agenda item 2\",\n",
        "        \"Agenda item 3\"\n",
        "      ],\n",
        "      \"DiscussionPoints\": [\n",
        "        {{\n",
        "          \"Topic\": \"Topic 1\",\n",
        "          \"Details\": \"Discussion details for topic 1.\"\n",
        "        }},\n",
        "        {{\n",
        "          \"Topic\": \"Topic 2\",\n",
        "          \"Details\": \"Discussion details for topic 2.\"\n",
        "        }},\n",
        "        {{\n",
        "          \"Topic\": \"Topic 3\",\n",
        "          \"Details\": \"Discussion details for topic 3.\"\n",
        "        }}\n",
        "      ],\n",
        "      \"ActionItems\": {{\n",
        "        \"DataScientist\": \"Action item for the data scientist.\",\n",
        "        \"MLEngineer\": \"Action item for the machine learning engineer.\",\n",
        "        \"DataEngineer\": \"Action item for the data engineer.\",\n",
        "        \"ProjectLead\": \"Action item for the project lead.\"\n",
        "      }},\n",
        "      \"NextMeeting\": \"Next meeting date\"\n",
        "    }}\n",
        "  }}\n",
        "  \"\n",
        "\n",
        "All fields are necessary.\n",
        "\n",
        "Do not hallucinate, if a field cannot be found let the key be empty/null\n",
        "\n",
        "\"\"\"\n",
        "\n",
        "refine_prompt = ChatPromptTemplate([(\"human\", refine_template)])\n",
        "\n",
        "refine_summary_chain = refine_prompt | llm | StrOutputParser()"
      ],
      "metadata": {
        "id": "5STmxQS53N1d"
      },
      "execution_count": 61,
      "outputs": []
    },
    {
      "cell_type": "code",
      "source": [
        "# We will define the state of the graph to hold the document\n",
        "# contents and summary. We also include an index to keep track\n",
        "# of our position in the sequence of documents.\n",
        "class State(TypedDict):\n",
        "    contents: List[str]\n",
        "    index: int\n",
        "    summary: str\n",
        "\n",
        "# We define functions for each node, including a node that generates\n",
        "# the initial summary:\n",
        "async def generate_initial_summary(state: State, config: RunnableConfig):\n",
        "    summary = await initial_summary_chain.ainvoke(\n",
        "        state[\"contents\"][0],\n",
        "        config,\n",
        "    )\n",
        "    return {\"summary\": summary, \"index\": 1}\n",
        "\n",
        "\n",
        "# And a node that refines the summary based on the next document\n",
        "async def refine_summary(state: State, config: RunnableConfig):\n",
        "    content = state[\"contents\"][state[\"index\"]]\n",
        "    summary = await refine_summary_chain.ainvoke(\n",
        "        {\"existing_answer\": state[\"summary\"], \"context\": content},\n",
        "        config,\n",
        "    )\n",
        "\n",
        "    return {\"summary\": summary, \"index\": state[\"index\"] + 1}\n",
        "\n",
        "# Here we implement logic to either exit the application or refine\n",
        "# the summary.\n",
        "def should_refine(state: State) -> Literal[\"refine_summary\", END]:\n",
        "    if state[\"index\"] >= len(state[\"contents\"]):\n",
        "        return END\n",
        "    else:\n",
        "        return \"refine_summary\"\n"
      ],
      "metadata": {
        "id": "STdgEXb73dnA"
      },
      "execution_count": 62,
      "outputs": []
    },
    {
      "cell_type": "code",
      "source": [
        "graph = StateGraph(State)\n",
        "graph.add_node(\"generate_initial_summary\", generate_initial_summary)\n",
        "graph.add_node(\"refine_summary\", refine_summary)\n",
        "\n",
        "graph.add_edge(START, \"generate_initial_summary\")\n",
        "graph.add_conditional_edges(\"generate_initial_summary\", should_refine)\n",
        "graph.add_conditional_edges(\"refine_summary\", should_refine)\n",
        "app = graph.compile()"
      ],
      "metadata": {
        "id": "PttE2x9j3t0U"
      },
      "execution_count": 63,
      "outputs": []
    },
    {
      "cell_type": "code",
      "source": [
        "from IPython.display import Image\n",
        "\n",
        "Image(app.get_graph().draw_mermaid_png())"
      ],
      "metadata": {
        "colab": {
          "base_uri": "https://localhost:8080/",
          "height": 400
        },
        "id": "NHX2GMa94E5D",
        "outputId": "32f50328-3290-4a6a-dd4d-0b4aaff5e9e5"
      },
      "execution_count": 64,
      "outputs": [
        {
          "output_type": "execute_result",
          "data": {
            "image/jpeg": "[encoded data removed]",
            "text/plain": [
              "<IPython.core.display.Image object>"
            ]
          },
          "metadata": {},
          "execution_count": 64
        }
      ]
    },
    {
      "cell_type": "code",
      "source": [
        "# Load documents\n",
        "# Read the pdf\n",
        "\n",
        "import pymupdf\n",
        "from langchain_core.documents import Document\n",
        "\n",
        "latest_status_description = \"\"\"In the follow-up meeting held on October 2, 2024, the team reviewed\n",
        " the successful completion of the model selection and training phase for the Customer\n",
        " Churn Prediction Engine. After evaluating multiple models, including Logistic Regression,\n",
        " Random Forest, and XGBoost, the team selected XGBoost as the final model due to its superior performance,\n",
        " achieving an accuracy of 85%, a recall of 82%, and an AUC-ROC score of 0.89. SHAP analysis was used to provide\n",
        " transparency in the model’s predictions, revealing key churn indicators such as customer engagement frequency\n",
        " and subscription tenure. The team discussed challenges such as class imbalance, which was addressed using SMOTE,\n",
        " and overfitting risks, mitigated through regularization and cross-validation. Moving forward, the team will fine-tune\n",
        " the model, conduct final validation, and begin deployment planning. The software and ML engineers will develop APIs to\n",
        " integrate the model into the CRM system, while an automated retraining pipeline will be implemented to keep the\n",
        " model updated every 14 days. The business analyst will collaborate with the marketing team to apply the insights for\n",
        " targeted retention strategies. The next meeting is scheduled for October 16, 2024\n",
        ", to finalize deployment plans and align business strategies with the model’s outputs.\"\"\"\n",
        "\n",
        "doc = pymupdf.open(\"MOM-arjtech meeting.pdf\")\n",
        "\n",
        "extracted_text = \"\"\n",
        "\n",
        "for page in doc:\n",
        "  extracted_text += page.get_text()\n",
        "  extracted_text += \"\\n\"\n",
        "\n",
        "\n",
        "documents = [\n",
        "    Document(page_content = extracted_text, metadata={\"title\": \"current_document\"}),\n",
        "    Document(page_content = latest_status_description, metadata={\"title\": \"latest_document\"}),\n",
        "]"
      ],
      "metadata": {
        "id": "rUuRnn_T7gdh"
      },
      "execution_count": 65,
      "outputs": []
    },
    {
      "cell_type": "code",
      "source": [
        "# extracting output summary in the predefined structure\n",
        "\n",
        "async for step in app.astream(\n",
        "    {\"contents\": [doc.page_content for doc in documents]},\n",
        "    stream_mode=\"values\",\n",
        "):\n",
        "    if summary := step.get(\"summary\"):\n",
        "        print(summary)"
      ],
      "metadata": {
        "colab": {
          "base_uri": "https://localhost:8080/"
        },
        "id": "ltAX6rnG4IU6",
        "outputId": "6300fbd5-d075-40eb-ecc3-a0181386906e"
      },
      "execution_count": 57,
      "outputs": [
        {
          "output_type": "stream",
          "name": "stdout",
          "text": [
            "## Arjtech Customer Churn Prediction Engine Project Summary\n",
            "\n",
            "**Date:** September 25, 2024\n",
            "\n",
            "This report summarizes the progress of the Customer Churn Prediction Engine project at Arjtech Private Ltd. \n",
            "\n",
            "**Project Objective:** Develop a machine learning-powered engine to predict customer churn, enabling proactive retention strategies and optimized marketing.\n",
            "\n",
            "**Sections & Key Takeaways:**\n",
            "\n",
            "**1. Project Objective:**\n",
            "    * Goal: Predict customer churn using machine learning.\n",
            "    * Benefits: Proactive customer retention, optimized marketing efforts.\n",
            "\n",
            "**2. Current Status:**\n",
            "    * **Phase 1: Requirement Analysis (Completed):** Key churn indicators identified through stakeholder discussions.\n",
            "    * **Phase 2: Data Collection (Completed):** Data gathered from various sources including customer activity, usage logs, feedback, and subscriptions.\n",
            "    * **Phase 3: Data Preparation (In Progress):** Preliminary cleaning done; feature engineering, handling missing values, scaling, and encoding in progress.\n",
            "    * **Phase 4: Model Selection and Training (Upcoming):** Logistic Regression as baseline, followed by ensemble methods (Random Forest, Gradient Boosting). SHAP for model explainability.\n",
            "\n",
            "**3. Team Members:**\n",
            "    * Project Lead, Data Scientist, ML Engineer, Data Engineer, Business Analyst, Software Engineer.\n",
            "\n",
            "**4. Completed Tasks:**\n",
            "    * Stakeholder requirement analysis meetings.\n",
            "    * Data collection from internal and external sources.\n",
            "    * Initial data cleaning and preprocessing.\n",
            "\n",
            "**5. Newly Assigned Tasks:**\n",
            "    * **Data Scientist:** Continue data preprocessing and feature engineering.\n",
            "    * **ML Engineer:** Explore and shortlist machine learning models for training.\n",
            "    * **Data Engineer:** Set up infrastructure for data storage and handling during training.\n",
            "    * **Software Engineer:** Plan deployment pipelines for model integration into CRM.\n",
            "\n",
            "**6. Minutes of the Meeting (September 24, 2024):**\n",
            "    * **Discussion Points:**\n",
            "        * Data collection complete, minor missing value issues addressed.\n",
            "        * Feature engineering and class imbalance handling discussed.\n",
            "        * Logistic Regression as baseline, followed by more advanced models.\n",
            "    * **Action Items:**\n",
            "        * Data Scientist: Finalize data preparation and start exploratory data analysis.\n",
            "        * ML Engineer: Evaluate initial performance with Logistic Regression.\n",
            "        * Data Engineer: Ensure preprocessed data is ready for training.\n",
            "        * Project Lead: Schedule model performance review after initial results.\n",
            "\n",
            "**Overall:** The project is progressing well. Data collection and initial preparation are complete. The team is currently focused on feature engineering and model selection. The next steps involve model training and evaluation, followed by deployment planning. \n",
            "\n",
            "```json\n",
            "{\n",
            "  \"ProjectTitle\": \"Customer Churn Prediction Engine\",\n",
            "  \"Date\": \"October 2, 2024\",\n",
            "  \"ProjectObjective\": \"Develop a machine learning-powered engine to predict customer churn, enabling proactive retention strategies and optimized marketing.\",\n",
            "  \"CurrentStatus\": {\n",
            "    \"RequirementAnalysis\": \"Completed\",\n",
            "    \"DataCollection\": \"Completed\",\n",
            "    \"DataPreparation\": {\n",
            "      \"Status\": \"Completed\"\n",
            "    },\n",
            "    \"ModelSelectionAndTraining\": {\n",
            "      \"Status\": \"Completed\",\n",
            "      \"Details\": \"XGBoost selected as the final model due to superior performance (Accuracy: 85%, Recall: 82%, AUC-ROC: 0.89). SHAP analysis used for model explainability.\"\n",
            "    }\n",
            "  },\n",
            "  \"TeamMembers\": [\n",
            "    \"Project Lead\",\n",
            "    \"Data Scientist\",\n",
            "    \"ML Engineer\",\n",
            "    \"Data Engineer\",\n",
            "    \"Business Analyst\",\n",
            "    \"Software Engineer\"\n",
            "  ],\n",
            "  \"CompletedTasks\": [\n",
            "    \"Stakeholder requirement analysis meetings.\",\n",
            "    \"Data collection from internal and external sources.\",\n",
            "    \"Data cleaning and preprocessing.\",\n",
            "    \"Feature engineering.\",\n",
            "    \"Model selection and training.\"\n",
            "  ],\n",
            "  \"NewlyAssignedTasks\": {\n",
            "    \"DataScientist\": \"Fine-tune the model and conduct final validation.\",\n",
            "    \"MLEngineer\": \"Develop APIs to integrate the model into the CRM system. Implement automated retraining pipeline.\",\n",
            "    \"DataEngineer\": null,\n",
            "    \"SoftwareEngineer\": \"Develop APIs to integrate the model into the CRM system.\"\n",
            "  },\n",
            "  \"MinutesOfMeeting\": {\n",
            "    \"Date\": \"October 2, 2024\",\n",
            "    \"Attendees\": [\n",
            "      \"Project Lead\",\n",
            "      \"Data Scientist\",\n",
            "      \"ML Engineer\",\n",
            "      \"Data Engineer\",\n",
            "      \"Business Analyst\",\n",
            "      \"Software Engineer\"\n",
            "    ],\n",
            "    \"Agenda\": [\n",
            "      \"Review model selection and training results.\",\n",
            "      \"Discuss challenges and solutions.\",\n",
            "      \"Plan next steps for deployment and business integration.\"\n",
            "    ],\n",
            "    \"DiscussionPoints\": [\n",
            "      {\n",
            "        \"Topic\": \"Model Performance\",\n",
            "        \"Details\": \"XGBoost outperformed other models, achieving satisfactory metrics.\"\n",
            "      },\n",
            "      {\n",
            "        \"Topic\": \"Challenges\",\n",
            "        \"Details\": \"Addressed class imbalance using SMOTE and mitigated overfitting through regularization and cross-validation.\"\n",
            "      },\n",
            "      {\n",
            "        \"Topic\": \"Next Steps\",\n",
            "        \"Details\": \"Focus on model fine-tuning, final validation, deployment planning, API development, retraining pipeline implementation, and business strategy alignment.\"\n",
            "      }\n",
            "    ],\n",
            "    \"ActionItems\": {\n",
            "      \"DataScientist\": \"Fine-tune the model and conduct final validation.\",\n",
            "      \"MLEngineer\": \"Develop APIs and implement the retraining pipeline.\",\n",
            "      \"DataEngineer\": null,\n",
            "      \"ProjectLead\": \"Schedule next meeting to finalize deployment plans and align business strategies.\"\n",
            "    },\n",
            "    \"NextMeeting\": \"October 16, 2024\"\n",
            "  }\n",
            "}\n",
            "```\n"
          ]
        }
      ]
    },
    {
      "cell_type": "code",
      "source": [],
      "metadata": {
        "id": "ODFeDkc64VRz"
      },
      "execution_count": 57,
      "outputs": []
    }
  ]
}
